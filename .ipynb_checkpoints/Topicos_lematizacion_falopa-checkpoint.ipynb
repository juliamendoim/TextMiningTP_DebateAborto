{
 "cells": [
  {
   "cell_type": "code",
   "execution_count": 13,
   "metadata": {},
   "outputs": [],
   "source": [
    "import pandas as pd\n",
    "from nltk import word_tokenize\n",
    "from nltk.corpus import stopwords\n",
    "import string\n",
    "from gensim.models import LdaModel\n",
    "from gensim.corpora import Dictionary\n",
    "from gensim import corpora\n",
    "import numpy as np\n",
    "import pyLDAvis.gensim"
   ]
  },
  {
   "cell_type": "code",
   "execution_count": 14,
   "metadata": {},
   "outputs": [],
   "source": [
    "file = pd.read_csv('lematizador.txt', sep = '\\t', header = None)\n",
    "file.columns = ['surfice', 'lemma']\n",
    "file.set_index('surfice', inplace = True)\n",
    "diccionario = file.to_dict()\n",
    "dicc = diccionario['lemma']"
   ]
  },
  {
   "cell_type": "code",
   "execution_count": 15,
   "metadata": {},
   "outputs": [],
   "source": [
    "stopwords = stopwords.words('spanish')+list(string.punctuation)"
   ]
  },
  {
   "cell_type": "code",
   "execution_count": 16,
   "metadata": {},
   "outputs": [],
   "source": [
    "def lematizar_dic(lista, dicc):\n",
    "    valores = []\n",
    "    for x in lista:\n",
    "        if x in dicc.keys() and x != 'estado':\n",
    "            valores.append(dicc[x])\n",
    "        else:\n",
    "            valores.append(x)\n",
    "    return(' '.join(valores))   "
   ]
  },
  {
   "cell_type": "code",
   "execution_count": 17,
   "metadata": {},
   "outputs": [],
   "source": [
    "df = pd.read_csv('CORR_expositores_final_df.csv', sep = ';')"
   ]
  },
  {
   "cell_type": "code",
   "execution_count": 34,
   "metadata": {},
   "outputs": [],
   "source": [
    "textos = [word_tokenize(x.lower().replace('``','').replace(\"\\'\\'\",'')) for x in df.texto]"
   ]
  },
  {
   "cell_type": "code",
   "execution_count": 35,
   "metadata": {},
   "outputs": [],
   "source": [
    "lista2 = []\n",
    "for x in textos:\n",
    "    y = lematizar_dic(x, dicc)\n",
    "    lista2.append(y)"
   ]
  },
  {
   "cell_type": "code",
   "execution_count": 36,
   "metadata": {},
   "outputs": [],
   "source": [
    "lematizado_plenaria_df = pd.Series(lista2)"
   ]
  },
  {
   "cell_type": "code",
   "execution_count": 37,
   "metadata": {},
   "outputs": [],
   "source": [
    "nueva_df = pd.concat([df,lematizado_plenaria_df.rename('texto_lematizado')], axis = 1).dropna(subset=['posicion'])#.groupby('posicion')"
   ]
  },
  {
   "cell_type": "code",
   "execution_count": 38,
   "metadata": {},
   "outputs": [],
   "source": [
    "def procesar_texto(text, stopwords=[]):\n",
    "    text = word_tokenize(text.lower())\n",
    "    return [tok for tok in text if tok not in stopwords]"
   ]
  },
  {
   "cell_type": "code",
   "execution_count": 39,
   "metadata": {},
   "outputs": [],
   "source": [
    "textoslematizados = [procesar_texto(x,stopwords) for x in nueva_df.texto_lematizado]"
   ]
  },
  {
   "cell_type": "code",
   "execution_count": 40,
   "metadata": {},
   "outputs": [
    {
     "data": {
      "text/plain": [
       "[(0,\n",
       "  '0.013*\"humano\" + 0.011*\"personar\" + 0.010*\"deber\" + 0.009*\"sobrar\" + 0.007*\"articular\"'),\n",
       " (1,\n",
       "  '0.009*\"hijo\" + 0.009*\"embarazar\" + 0.008*\"ir\" + 0.008*\"madre\" + 0.007*\"personar\"'),\n",
       " (2,\n",
       "  '0.010*\"salud\" + 0.010*\"sobrar\" + 0.009*\"ley\" + 0.007*\"debatir\" + 0.007*\"embarazar\"'),\n",
       " (3,\n",
       "  '0.013*\"salud\" + 0.010*\"embarazar\" + 0.009*\"sobrar\" + 0.006*\"deber\" + 0.005*\"decidir\"'),\n",
       " (4,\n",
       "  '0.012*\"salud\" + 0.008*\"pais\" + 0.008*\"aborto\" + 0.007*\"ir\" + 0.007*\"años\"')]"
      ]
     },
     "execution_count": 40,
     "metadata": {},
     "output_type": "execute_result"
    }
   ],
   "source": [
    "dictionarylem = corpora.Dictionary(textoslematizados)\n",
    "dictionarylem.filter_extremes()\n",
    "corpuslematizado = [dictionarylem.doc2bow(text) for text in textoslematizados]\n",
    "ldamodel = LdaModel(corpus=corpuslematizado, num_topics=5, id2word=dictionarylem, iterations=2000, passes=10)\n",
    "ldamodel.print_topics(5, 5)"
   ]
  },
  {
   "cell_type": "code",
   "execution_count": 41,
   "metadata": {},
   "outputs": [],
   "source": [
    "textos = [procesar_texto(x,stopwords) for x in nueva_df.texto]\n",
    "textosfavor = [procesar_texto(x,stopwords) for x in nueva_df.texto[nueva_df.posicion=='a favor']]\n",
    "textoscontra = [procesar_texto(x,stopwords) for x in nueva_df.texto[nueva_df.posicion=='en contra']]"
   ]
  },
  {
   "cell_type": "code",
   "execution_count": 42,
   "metadata": {},
   "outputs": [
    {
     "data": {
      "text/plain": [
       "[(0,\n",
       "  '0.011*\"mujer\" + 0.007*\"embarazo\" + 0.006*\"años\" + 0.006*\"madre\" + 0.005*\"puede\"'),\n",
       " (1,\n",
       "  '0.011*\"salud\" + 0.008*\"derecho\" + 0.006*\"ley\" + 0.006*\"sexual\" + 0.006*\"embarazo\"'),\n",
       " (2,\n",
       "  '0.016*\"derecho\" + 0.013*\"derechos\" + 0.008*\"salud\" + 0.006*\"humanos\" + 0.005*\"persona\"'),\n",
       " (3,\n",
       "  '0.006*\"mujer\" + 0.005*\"argentina\" + 0.005*\"estan\" + 0.004*\"decir\" + 0.004*\"tema\"'),\n",
       " (4,\n",
       "  '0.013*\"persona\" + 0.011*\"codigo\" + 0.008*\"mujer\" + 0.006*\"derecho\" + 0.005*\"\\'\\'\"')]"
      ]
     },
     "execution_count": 42,
     "metadata": {},
     "output_type": "execute_result"
    }
   ],
   "source": [
    "dictionary = corpora.Dictionary(textos)\n",
    "dictionary.filter_extremes()\n",
    "corpus = [dictionary.doc2bow(text) for text in textos]\n",
    "ldamodelcompleto = LdaModel(corpus=corpus, num_topics=5, id2word=dictionary, iterations=2000, passes=10)\n",
    "ldamodelcompleto.print_topics(5, 5)"
   ]
  },
  {
   "cell_type": "code",
   "execution_count": 43,
   "metadata": {},
   "outputs": [
    {
     "data": {
      "text/plain": [
       "[(0,\n",
       "  '0.014*\"derecho\" + 0.008*\"derechos\" + 0.008*\"vida\" + 0.005*\"si\" + 0.005*\"aborto\"'),\n",
       " (1,\n",
       "  '0.019*\"mujeres\" + 0.012*\"aborto\" + 0.008*\"vida\" + 0.008*\"salud\" + 0.006*\"si\"'),\n",
       " (2,\n",
       "  '0.016*\"aborto\" + 0.014*\"mujeres\" + 0.009*\"salud\" + 0.009*\"derecho\" + 0.007*\"derechos\"'),\n",
       " (3,\n",
       "  '0.009*\"mujeres\" + 0.004*\"embarazo\" + 0.003*\"aborto\" + 0.003*\"``\" + 0.003*\"debate\"'),\n",
       " (4,\n",
       "  '0.011*\"aborto\" + 0.009*\"mujeres\" + 0.008*\"mas\" + 0.007*\"si\" + 0.006*\"ser\"')]"
      ]
     },
     "execution_count": 43,
     "metadata": {},
     "output_type": "execute_result"
    }
   ],
   "source": [
    "dictionaryfavor = corpora.Dictionary(textosfavor)\n",
    "corpusfavor = [dictionaryfavor.doc2bow(text) for text in textosfavor]\n",
    "ldamodelfavor = LdaModel(corpus=corpusfavor, num_topics=5, id2word=dictionaryfavor, iterations=2000, passes=10)\n",
    "ldamodelfavor.print_topics(5, 5)"
   ]
  },
  {
   "cell_type": "code",
   "execution_count": 44,
   "metadata": {},
   "outputs": [
    {
     "data": {
      "text/plain": [
       "[(0,\n",
       "  '0.015*\"aborto\" + 0.012*\"vida\" + 0.010*\"derecho\" + 0.008*\"derechos\" + 0.007*\"ser\"'),\n",
       " (1,\n",
       "  '0.006*\"``\" + 0.004*\"aborto\" + 0.004*\"si\" + 0.003*\"mas\" + 0.003*\"estres\"'),\n",
       " (2,\n",
       "  '0.008*\"aborto\" + 0.007*\"vida\" + 0.005*\"ser\" + 0.004*\"mujer\" + 0.004*\"madre\"'),\n",
       " (3,\n",
       "  '0.014*\"aborto\" + 0.008*\"vida\" + 0.007*\"mujer\" + 0.006*\"ser\" + 0.006*\"si\"'),\n",
       " (4, '0.013*\"vida\" + 0.010*\"aborto\" + 0.009*\"mas\" + 0.008*\"ser\" + 0.008*\"si\"')]"
      ]
     },
     "execution_count": 44,
     "metadata": {},
     "output_type": "execute_result"
    }
   ],
   "source": [
    "dictionarycontra = corpora.Dictionary(textoscontra)\n",
    "corpuscontra = [dictionarycontra.doc2bow(text) for text in textoscontra]\n",
    "ldamodelcontra = LdaModel(corpus=corpuscontra, num_topics=5, id2word=dictionarycontra, iterations=2000, passes=10)\n",
    "ldamodelcontra.print_topics(5, 5)"
   ]
  },
  {
   "cell_type": "code",
   "execution_count": null,
   "metadata": {},
   "outputs": [],
   "source": []
  },
  {
   "cell_type": "code",
   "execution_count": null,
   "metadata": {
    "scrolled": true
   },
   "outputs": [],
   "source": []
  },
  {
   "cell_type": "code",
   "execution_count": null,
   "metadata": {},
   "outputs": [],
   "source": []
  },
  {
   "cell_type": "code",
   "execution_count": 45,
   "metadata": {},
   "outputs": [],
   "source": [
    "corpustextos = [dictionary.doc2bow(text) for text in textos]"
   ]
  },
  {
   "cell_type": "code",
   "execution_count": 46,
   "metadata": {},
   "outputs": [],
   "source": [
    "ldamodelcompleto = LdaModel(corpus=corpustextos, num_topics=10, id2word=dictionary, iterations=2000, passes=10)"
   ]
  },
  {
   "cell_type": "code",
   "execution_count": 47,
   "metadata": {},
   "outputs": [
    {
     "data": {
      "text/plain": [
       "[(0,\n",
       "  '0.010*\"embrion\" + 0.007*\"humano\" + 0.006*\"puede\" + 0.005*\"años\" + 0.005*\"decir\" + 0.005*\"madre\" + 0.005*\"feto\" + 0.004*\"celulas\" + 0.004*\"estan\" + 0.004*\"momento\"'),\n",
       " (1,\n",
       "  '0.008*\"derechos\" + 0.007*\"mujer\" + 0.007*\"humano\" + 0.006*\"persona\" + 0.006*\"derecho\" + 0.005*\"embarazo\" + 0.005*\"años\" + 0.005*\"momento\" + 0.005*\"ley\" + 0.005*\"puede\"'),\n",
       " (2,\n",
       "  '0.011*\"mujer\" + 0.007*\"hijo\" + 0.006*\"embarazo\" + 0.005*\"años\" + 0.005*\"bebe\" + 0.005*\"madre\" + 0.005*\"tener\" + 0.005*\"dos\" + 0.005*\"puede\" + 0.005*\"decir\"'),\n",
       " (3,\n",
       "  '0.007*\"mujer\" + 0.006*\"derecho\" + 0.006*\"salud\" + 0.006*\"ley\" + 0.005*\"embarazo\" + 0.004*\"sino\" + 0.004*\"sociedad\" + 0.004*\"puede\" + 0.004*\"solo\" + 0.004*\"personas\"'),\n",
       " (4,\n",
       "  '0.015*\"\\'\\'\" + 0.012*\"salud\" + 0.005*\"todas\" + 0.005*\"señor\" + 0.005*\"muchas\" + 0.005*\"pregunta\" + 0.005*\"creo\" + 0.005*\"ciento\" + 0.004*\"presidente\" + 0.004*\"mental\"'),\n",
       " (5,\n",
       "  '0.022*\"derechos\" + 0.019*\"derecho\" + 0.011*\"humanos\" + 0.007*\"penal\" + 0.006*\"corte\" + 0.006*\"caso\" + 0.005*\"internacional\" + 0.005*\"argentina\" + 0.005*\"convencion\" + 0.004*\"casos\"'),\n",
       " (6,\n",
       "  '0.019*\"salud\" + 0.009*\"embarazo\" + 0.007*\"años\" + 0.006*\"acceso\" + 0.006*\"derecho\" + 0.005*\"abortos\" + 0.005*\"sexual\" + 0.005*\"legal\" + 0.005*\"mujer\" + 0.004*\"ley\"'),\n",
       " (7,\n",
       "  '0.017*\"materna\" + 0.016*\"mortalidad\" + 0.010*\"abortos\" + 0.010*\"paises\" + 0.009*\"muertes\" + 0.009*\"salud\" + 0.007*\"años\" + 0.006*\"ciento\" + 0.006*\"argentina\" + 0.005*\"tasa\"'),\n",
       " (8,\n",
       "  '0.028*\"derecho\" + 0.016*\"derechos\" + 0.015*\"persona\" + 0.013*\"niño\" + 0.011*\"articulo\" + 0.009*\"concepcion\" + 0.009*\"nacer\" + 0.008*\"codigo\" + 0.007*\"humana\" + 0.007*\"mujer\"'),\n",
       " (9,\n",
       "  '0.013*\"mujer\" + 0.006*\"años\" + 0.004*\"dolor\" + 0.004*\"madre\" + 0.004*\"ley\" + 0.004*\"estres\" + 0.003*\"muerte\" + 0.003*\"muchas\" + 0.003*\"\\'\\'\" + 0.003*\"puede\"')]"
      ]
     },
     "execution_count": 47,
     "metadata": {},
     "output_type": "execute_result"
    }
   ],
   "source": [
    "ldamodelcompleto.print_topics(10, 10)"
   ]
  },
  {
   "cell_type": "code",
   "execution_count": 48,
   "metadata": {},
   "outputs": [],
   "source": [
    "corpusafavor = [dictionary.doc2bow(text) for text in textosafavor]"
   ]
  },
  {
   "cell_type": "code",
   "execution_count": 49,
   "metadata": {},
   "outputs": [],
   "source": [
    "ldamodelfavor = LdaModel(corpus=corpustextos, num_topics=5, id2word=dictionary, iterations=2000, passes=10)"
   ]
  },
  {
   "cell_type": "code",
   "execution_count": 50,
   "metadata": {},
   "outputs": [
    {
     "data": {
      "text/plain": [
       "[(0,\n",
       "  '0.018*\"derecho\" + 0.016*\"derechos\" + 0.010*\"articulo\" + 0.008*\"convencion\" + 0.007*\"niño\"'),\n",
       " (1,\n",
       "  '0.018*\"derecho\" + 0.010*\"derechos\" + 0.008*\"persona\" + 0.007*\"personas\" + 0.007*\"humano\"'),\n",
       " (2,\n",
       "  '0.013*\"salud\" + 0.009*\"derecho\" + 0.007*\"embarazo\" + 0.006*\"legal\" + 0.006*\"ley\"'),\n",
       " (3,\n",
       "  '0.010*\"mujer\" + 0.008*\"derecho\" + 0.007*\"derechos\" + 0.007*\"embarazo\" + 0.006*\"madre\"'),\n",
       " (4,\n",
       "  '0.008*\"mujer\" + 0.007*\"salud\" + 0.006*\"años\" + 0.006*\"embarazo\" + 0.005*\"abortos\"')]"
      ]
     },
     "execution_count": 50,
     "metadata": {},
     "output_type": "execute_result"
    }
   ],
   "source": [
    "ldamodelfavor.print_topics(5, 5)"
   ]
  },
  {
   "cell_type": "code",
   "execution_count": 51,
   "metadata": {},
   "outputs": [],
   "source": [
    "corpusencontra = [dictionary.doc2bow(text) for text in textosencontra]"
   ]
  },
  {
   "cell_type": "code",
   "execution_count": 52,
   "metadata": {},
   "outputs": [],
   "source": [
    "ldamodelcontra = LdaModel(corpus=corpustextos, num_topics=5, id2word=dictionary, iterations=2000, passes=10)"
   ]
  },
  {
   "cell_type": "code",
   "execution_count": 53,
   "metadata": {},
   "outputs": [
    {
     "data": {
      "text/plain": [
       "[(0,\n",
       "  '0.011*\"humano\" + 0.009*\"persona\" + 0.008*\"embrion\" + 0.007*\"mujer\" + 0.007*\"humana\"'),\n",
       " (1,\n",
       "  '0.020*\"derecho\" + 0.017*\"derechos\" + 0.007*\"humanos\" + 0.006*\"ley\" + 0.006*\"persona\"'),\n",
       " (2,\n",
       "  '0.010*\"salud\" + 0.008*\"mujer\" + 0.007*\"embarazo\" + 0.007*\"años\" + 0.004*\"abortos\"'),\n",
       " (3,\n",
       "  '0.009*\"embarazo\" + 0.008*\"salud\" + 0.006*\"mujer\" + 0.005*\"misoprostol\" + 0.005*\"personas\"'),\n",
       " (4,\n",
       "  '0.007*\"sexual\" + 0.007*\"educacion\" + 0.006*\"salud\" + 0.006*\"años\" + 0.006*\"ley\"')]"
      ]
     },
     "execution_count": 53,
     "metadata": {},
     "output_type": "execute_result"
    }
   ],
   "source": [
    "ldamodelcontra.print_topics(5, 5)"
   ]
  },
  {
   "cell_type": "code",
   "execution_count": null,
   "metadata": {},
   "outputs": [],
   "source": []
  },
  {
   "cell_type": "code",
   "execution_count": null,
   "metadata": {},
   "outputs": [],
   "source": []
  },
  {
   "cell_type": "code",
   "execution_count": null,
   "metadata": {},
   "outputs": [],
   "source": []
  }
 ],
 "metadata": {
  "kernelspec": {
   "display_name": "Python 3",
   "language": "python",
   "name": "python3"
  },
  "language_info": {
   "codemirror_mode": {
    "name": "ipython",
    "version": 3
   },
   "file_extension": ".py",
   "mimetype": "text/x-python",
   "name": "python",
   "nbconvert_exporter": "python",
   "pygments_lexer": "ipython3",
   "version": "3.7.0"
  }
 },
 "nbformat": 4,
 "nbformat_minor": 2
}
