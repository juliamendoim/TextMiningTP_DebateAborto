{
 "cells": [
  {
   "cell_type": "markdown",
   "metadata": {},
   "source": [
    "# Aborto: El plenario de Comisiones y el Debate en Diputados. Un análisis automático"
   ]
  },
  {
   "cell_type": "markdown",
   "metadata": {},
   "source": [
    "## El corpus\n",
    "\n",
    "El corpus está dividido en dos:\n",
    "\n",
    "\n",
    "1. Las versiones taquigráficas del plenario de Comisiones que tuvo lugar en la Cámara de Diputados todos los martes y jueves entre el 10 de abril y el 24 de mayo de 2018.\n",
    "2. Las versiones taquigráficas del debate previo a la votación de la ley de interrupción voluntaria del emarbarazo en la Cámara de Diputados.\n",
    "\n",
    "\n",
    "## Preprocesamiento\n",
    "\n",
    "\n",
    "En las dos partes del corpus se usaron Expresiones Regulares para captar los patrones que dividían, en los documentos taquigráficos, las líneas de introducción del discurso de cada uno de los expositores/diputados.\n",
    "\n",
    "\n",
    "Esa extracción se bajó a una tabla que indica el nombre del orador, su profesión (no en todos los casos) y su posición a favor o en contra de la ley del aborto. RegEx también fue la estrategia que se usó para conectar los apellidos de los oradores con estos datos que residían en una tabla diferente (ReGex y mucha buena voluntad de chequear a mano que estuvieran bien, y sin embargo...).\n",
    "\n",
    "\n",
    "Finalmente, se extrajeron símbolos que podrían perjudicar el procesamiento posterior. Se trabajó únicamente con los discursos que estaban marcados con las ‘etiquetas’ ‘a favor’ y ‘en contra’, es decir, se dejóaron de lado las intervenciones de los presidentes/moderadores del debate.\n",
    "\n",
    "\n",
    "## Lematización -\n",
    "\n",
    "\n",
    "Con la lematización se buscó reducir la dimensionalidad del vocabulario sin afectar a las formas completas, para que, al final del proceso, el output fuera legible. Al menos, esa fue la idea inicial. \n",
    "\n",
    "\n",
    "Primero, se utilizó un lematizador muy simple que consistía en una lista de, aproximadamente, quinientos mil pares *forma de superficie-lema* separados por una tabulación. \n",
    "\n",
    "\n",
    "Esta forma de diccionario presenta varios problemas. Por ejemplo, el diccionario disponible no poseía tildes, por lo que se procedió a eliminar las tildes del corpus, eliminando así la diferencia evidente entre palabras con y sin tilde. A su vez, se debía confiar un poco 'a ciegas' en que las listas fueran lo suficientemente completas y consistentes para que el resultado fuera útil. Por último, una misma forma de superficie podía ser entrada de más de una forma *lema* del diccionario. Pongamos el caso de la palabra ‘estado’, con importancia propia dentro de este corpus, que era tomada como forma verbal y llevada al lema ‘estar’. Al momento de lematizar de forma automática, la decisión de a qué forma llevar cada palabra debía hacerse de ante mano. Se dicidió que, por default, cayera en la primera forma lema. Para el caso específico de 'estado', se evitó la lematización (y consigo, la de las formas verbales reales). Conclusión, esta lematización reducía la dimensionalidad, pero a costa de obtener un vocabulario que no era fiel al corpus original.\n",
    "\n",
    "\n",
    "Sin embargo, no se abandonó la intención perseguida con el lematizador, y se pocedió al uso de otro que, con el uso de un PoS Tagger de Stanford provisto por la librería NLTK, entrena en el corpus para decidir qué etiqueta sintáctica asignarle a cada palabra y, en base a esa etiqueta, aplica el diccionario de lemas, consiguiendo un vocabulario reducido y fiel (o al menos, mucho más fiel) al original. En este caso, 'el estado' recibiría un POS \n",
    "\n",
    "\n",
    "## Extracción de tópicos con LDA - la lupa sobre el plenario de Comisiones\n",
    "\n",
    "\n",
    "La hipótesis perseguida en la extracción de tópicos era la idea de que cada postura frente al aborto (‘a favor’ y ‘en contra’) utilizaría distintos tópicos para apoyar su discurso y contradecir el opuesto. Estos tópicos incluirían distintas maneras (y,  por lo tanto, palabras) de tratar el tema desde lo social, económico, político, científico, médico, etc. Entonces, un análisis de estos tópicos podría ser de gran utilidad en una tarea de clasificación.\n",
    "\n",
    "\n",
    "Para explorar esta hipótesis, se aplicó LDA en el total de los textos y en los textos separados por la etiqueta de ‘posición’. "
   ]
  },
  {
   "cell_type": "markdown",
   "metadata": {},
   "source": [
    "### Las tres visualizaciones\n",
    "\n",
    "#### General\n",
    "En [LDAgeneral](./LDAgeneral.html#topic=0&lambda=1&term=) se visualizan diez tópicos extraídos de todo el corpus. \n",
    "La idea detrás de esta visualización es que, en cierta medida, debería reflejar las dos posiciones encontradas en los discursos del plenario de Comisiones. Es decir, si la hipótesis de que cada 'bando' utiliza sus propios argumentos respaldados con una 'bolsa de palabras' particular (saltando el hecho de que los dos hablan del mismo tema general), filtrando las palabras de mayor frecuencia, deberíamos poder ver cómo estos tópicos agrupan esos subtemas. \n",
    "\n",
    "\n",
    "En el gráfico de la izquierda, vemos que, de diez tópicos (el número final de tópicos varió entre los 5 y los 20, quedando 10 como decisión final), tres son los que tienen mayor predominancia en el modelo [<sup>1</sup>](#footnote1) (1, 2 y 3). Entre sí, 2 y 3 son los que más se alejan o tienen menor relación entre ellos. \n",
    "\n",
    "\n",
    "##### Un doble click sobre los tópicos 1 y 2: parámetro λ\n",
    "\n",
    "\n",
    "A 'ojo', el tópico 1 parece representar más a las posturas que están 'a favor' y el tópico 2, a las que están 'en contra'.\n",
    "\n",
    "El panel de la derecha muestra la relevancia de las palabras dado un tópico. Si miramos las del tópico 1, podemos ver que las de mayor relevancia dentro de ese tópico incluyen palabras como **salud**, **legal**, **seguro**, **social** y **acceso**. Entre las palabras más relevantes del tópico 2 se encuentran **persona**, **niño**, **concepción**, **nacer** y **protección**.\n",
    "\n",
    "Sin embargo, los resultados más interesantes para estos tópicos aparecen al bajar el parámetro **λ** de la métrica de relevancia porque revela palabras con fuerte contenido en uno y otro de estos dos tópicos principales, como **animal**, **inconstitucional** o **razonamiento** para el tópico 2 y **lesbiana**, **mito** y **antiderecho** para el tópico 1."
   ]
  },
  {
   "cell_type": "markdown",
   "metadata": {},
   "source": [
    "Una vez explorada la visión general de los tópicos y haciendo uso de la etiqueta que diferencia a los discursos, se procedió a trabajar del mismo modo con tópicos internos a los corpus de cada postura, a modo de exploración sobre qué temas tocan una y otra. \n",
    "\n",
    "Para estos casos también se eligió un modelo de 10 tópicos."
   ]
  },
  {
   "cell_type": "markdown",
   "metadata": {},
   "source": [
    "#### Postura *a favor* de la despenalización del aborto\n",
    "\n",
    "* El tópico 1 une palabras relacionadas con la religión: 'iglesia', 'creyente', 'laico'. \n",
    "* El tópico 2 aborda aspectos prácticos del debate: 'acceso', 'hospital, 'practicar'.\n",
    "* El tópico 3 se acerca a las palabras que son 'caballito de batalla' en los discursos de esta postura: 'desición', 'clandestino', 'cuerpo', 'morir'.\n",
    "\n",
    "\n",
    "[LDAafavor](./LDAafavor.html)"
   ]
  },
  {
   "cell_type": "markdown",
   "metadata": {},
   "source": [
    "#### Postura *en contra* de la despenalización del aborto\n",
    "\n",
    "El tópico 1 tiene un sesgo orientado a la legislación: 'ley', 'proyecto', 'derecho'.\n",
    "El tópico 2 va hacia la perspectiva biológica: 'embrión', 'celulas', 'genética'.\n",
    "El tópico 3 vuelve al derecho pero con una visión internacional ¿?: 'interamericana', 'san' + 'josé', 'tratado'.\n",
    "\n",
    "[LDAencontra](./LDAcontra_sinfiltrar.html#topic=0&lambda=1&term=)"
   ]
  },
  {
   "cell_type": "markdown",
   "metadata": {},
   "source": [
    "### Conclusiones\n",
    "\n",
    "Con el trabajo sobre el vocabulario en la lematización y con el ajuste de los parámetros propios del método LDA, este análisis parece conveniente no sólo como trabajo exploratorio de los discursos (¿de qué se habla cuando se está a favor del aborto? ¿y cuándo se está en contra?), sino también como feature para entrenar un clasificador.\n",
    "\n"
   ]
  },
  {
   "cell_type": "markdown",
   "metadata": {},
   "source": [
    "<a id='footnote1'>1.</a> Sievert, C & Shirley, K.E.. (2014). LDAvis: A method for visualizing and interpreting topics. Proceedings of the Workshop on Interactive Language Learning, Visualization, and Interfaces. 63-70. "
   ]
  }
 ],
 "metadata": {
  "kernelspec": {
   "display_name": "Python 3",
   "language": "python",
   "name": "python3"
  },
  "language_info": {
   "codemirror_mode": {
    "name": "ipython",
    "version": 3
   },
   "file_extension": ".py",
   "mimetype": "text/x-python",
   "name": "python",
   "nbconvert_exporter": "python",
   "pygments_lexer": "ipython3",
   "version": "3.7.0"
  }
 },
 "nbformat": 4,
 "nbformat_minor": 2
}
