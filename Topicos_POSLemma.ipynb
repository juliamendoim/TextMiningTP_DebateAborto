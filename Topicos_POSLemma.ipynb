{
 "cells": [
  {
   "cell_type": "code",
   "execution_count": 1,
   "metadata": {},
   "outputs": [],
   "source": [
    "import pandas as pd\n",
    "import numpy as np\n",
    "import matplotlib.pyplot  as plt\n",
    "import gensim\n",
    "\n",
    "from nltk import word_tokenize\n",
    "from nltk.corpus import stopwords\n",
    "import string\n",
    "\n",
    "from gensim.models import CoherenceModel, LdaModel, LsiModel, HdpModel\n",
    "from gensim.models.wrappers import LdaMallet\n",
    "from gensim.corpora import Dictionary\n",
    "from gensim import corpora\n",
    "\n",
    "import pyLDAvis.gensim\n",
    "pyLDAvis.enable_notebook()\n",
    "\n",
    "\n",
    "import os, re, operator, warnings\n",
    "warnings.filterwarnings('ignore')  # Let's not pay heed to them right now\n",
    "%matplotlib inline"
   ]
  },
  {
   "cell_type": "code",
   "execution_count": 3,
   "metadata": {},
   "outputs": [],
   "source": [
    "df = pd.read_pickle('corpus_plenarias_lematizado.pkl')"
   ]
  },
  {
   "cell_type": "code",
   "execution_count": 4,
   "metadata": {},
   "outputs": [],
   "source": [
    "stopwords = stopwords.words('spanish')+list(string.punctuation)+list(\"\\'\\'\")"
   ]
  },
  {
   "cell_type": "code",
   "execution_count": 5,
   "metadata": {},
   "outputs": [],
   "source": [
    "def procesar_texto(text, stopwords=[]):\n",
    "    text = word_tokenize(text.lower())\n",
    "    return [tok for tok in text if tok not in stopwords]"
   ]
  },
  {
   "cell_type": "code",
   "execution_count": 6,
   "metadata": {},
   "outputs": [],
   "source": [
    "textoslematizados = [procesar_texto(x,stopwords) for x in df.lematizado]\n",
    "textosfavor = [procesar_texto(x,stopwords) for x in df.lematizado[df.posicion=='a favor']]\n",
    "textoscontra = [procesar_texto(x,stopwords) for x in df.lematizado[df.posicion=='en contra']]"
   ]
  },
  {
   "cell_type": "code",
   "execution_count": 19,
   "metadata": {},
   "outputs": [
    {
     "name": "stdout",
     "output_type": "stream",
     "text": [
      "20790\n"
     ]
    },
    {
     "data": {
      "text/plain": [
       "[(0,\n",
       "  '0.051*\"ser\" + 0.017*\"tener\" + 0.017*\"mujer\" + 0.014*\"poder\" + 0.013*\"haber\" + 0.012*\"vida\" + 0.012*\"aborto\" + 0.011*\"hacer\" + 0.010*\"si\" + 0.009*\"ir\"'),\n",
       " (1,\n",
       "  '0.009*\"...\" + 0.004*\"``\" + 0.003*\"cristian\" + 0.002*\"permitir\" + 0.002*\".varios\" + 0.002*\"parental\" + 0.001*\"complices\" + 0.001*\"veintidos\" + 0.001*\"inglaterra\" + 0.001*\"color\"'),\n",
       " (2,\n",
       "  '0.058*\"\\'\\'\" + 0.006*\"pregunta\" + 0.006*\"vulnerabilidad\" + 0.005*\"señor\" + 0.005*\"presidente\" + 0.003*\"diputado\" + 0.003*\"pedir\" + 0.003*\"respuesta\" + 0.003*\"entendi\" + 0.002*\"bastar\"'),\n",
       " (3,\n",
       "  '0.043*\"aborto\" + 0.038*\"ser\" + 0.018*\"materno\" + 0.015*\"mortalidad\" + 0.015*\"muerte\" + 0.012*\"ciento\" + 0.012*\"paises\" + 0.010*\"haber\" + 0.010*\"salud\" + 0.009*\"tener\"'),\n",
       " (4,\n",
       "  '0.033*\"ser\" + 0.022*\"mujer\" + 0.020*\"aborto\" + 0.012*\"salud\" + 0.011*\"derecho\" + 0.010*\"tener\" + 0.008*\"haber\" + 0.007*\"mas\" + 0.007*\"embarazo\" + 0.007*\"año\"'),\n",
       " (5,\n",
       "  '0.004*\"corriente\" + 0.004*\"precio\" + 0.003*\"mandato\" + 0.003*\"prevencion\" + 0.003*\"regulacion\" + 0.002*\"pena\" + 0.002*\"abuso\" + 0.002*\"nueve\" + 0.002*\"cultura\" + 0.002*\"\\'este\"'),\n",
       " (6,\n",
       "  '0.011*\"trastorno\" + 0.011*\"estres\" + 0.007*\"sintomas\" + 0.007*\"mental\" + 0.007*\"postraumatico\" + 0.006*\"sindrome\" + 0.005*\"emocional\" + 0.005*\"ansiedad\" + 0.005*\"depresion\" + 0.004*\"trauma\"'),\n",
       " (7,\n",
       "  '0.002*\"mendoza\" + 0.002*\"guttmacher\" + 0.002*\"precondición\" + 0.002*\"demografia\" + 0.002*\"estimacion\" + 0.001*\"2010\" + 0.001*\"eclesiastica\" + 0.001*\"inducidos\" + 0.001*\"normal\" + 0.001*\"mapuche\"'),\n",
       " (8,\n",
       "  '0.042*\"ser\" + 0.031*\"derecho\" + 0.016*\"vida\" + 0.013*\"tener\" + 0.012*\"humano\" + 0.010*\"haber\" + 0.010*\"poder\" + 0.009*\"aborto\" + 0.009*\"persona\" + 0.008*\"niño\"'),\n",
       " (9,\n",
       "  '0.054*\"ser\" + 0.014*\"vida\" + 0.012*\"haber\" + 0.012*\"humano\" + 0.009*\"poder\" + 0.007*\"aborto\" + 0.007*\"decir\" + 0.007*\"tener\" + 0.006*\"persona\" + 0.006*\"mas\"')]"
      ]
     },
     "execution_count": 19,
     "metadata": {},
     "output_type": "execute_result"
    }
   ],
   "source": [
    "dictionarylem = corpora.Dictionary(textoslematizados)\n",
    "print(len(dictionarylem))\n",
    "dictionarylem.filter_extremes()\n",
    "print(len(dictionarylem))\n",
    "corpuslematizado = [dictionarylem.doc2bow(text) for text in textoslematizados]\n",
    "ldamodel = LdaModel(corpus=corpuslematizado, num_topics=10, id2word=dictionarylem, iterations=4000, passes=100)\n",
    "ldamodel.print_topics(10, 10)"
   ]
  },
  {
   "cell_type": "code",
   "execution_count": 14,
   "metadata": {},
   "outputs": [
    {
     "name": "stdout",
     "output_type": "stream",
     "text": [
      "13774\n"
     ]
    },
    {
     "data": {
      "text/plain": [
       "[(0,\n",
       "  '0.017*\"ser\" + 0.008*\"feto\" + 0.006*\"haber\" + 0.005*\"querer\" + 0.005*\"si\" + 0.005*\"idea\" + 0.005*\"aborto\" + 0.004*\"``\" + 0.004*\"social\" + 0.004*\"alguno\"'),\n",
       " (1,\n",
       "  '0.047*\"derecho\" + 0.036*\"ser\" + 0.015*\"vida\" + 0.013*\"humano\" + 0.012*\"aborto\" + 0.011*\"haber\" + 0.011*\"tener\" + 0.009*\"mujer\" + 0.009*\"caso\" + 0.008*\"persona\"'),\n",
       " (2,\n",
       "  '0.011*\"sexual\" + 0.010*\"``\" + 0.008*\"violencia\" + 0.006*\"haber\" + 0.005*\"caso\" + 0.004*\"mujer\" + 0.004*\"salud\" + 0.004*\"equipo\" + 0.004*\"habia\" + 0.004*\"niño\"'),\n",
       " (3,\n",
       "  '0.043*\"ser\" + 0.016*\"tener\" + 0.013*\"haber\" + 0.013*\"hacer\" + 0.012*\"mujer\" + 0.010*\"decir\" + 0.010*\"ir\" + 0.010*\"querer\" + 0.010*\"aborto\" + 0.009*\"hablar\"'),\n",
       " (4,\n",
       "  '0.005*\"hospital\" + 0.004*\"santa\" + 0.004*\"fe\" + 0.004*\"ana\" + 0.004*\"sacar\" + 0.003*\"doctor\" + 0.003*\"despertar\" + 0.003*\"tratamiento\" + 0.002*\"nervioso\" + 0.002*\"criatura\"'),\n",
       " (5,\n",
       "  '0.023*\"\\'\\'\" + 0.005*\"señor\" + 0.004*\"riojano\" + 0.003*\"``\" + 0.002*\"contestar\" + 0.002*\"democracia\" + 0.002*\"rioja\" + 0.002*\"usted\" + 0.002*\"aborte\" + 0.002*\"jurar\"'),\n",
       " (6,\n",
       "  '0.002*\"defendamos\" + 0.001*\"mejoremos\" + 0.001*\"clarin\" + 0.001*\"conocimientos\" + 0.001*\"sentis\" + 0.001*\"eugenesico\" + 0.001*\"mezclar\" + 0.000*\"hare\" + 0.000*\"leer\" + 0.000*\"psiquica\"'),\n",
       " (7,\n",
       "  '0.003*\"menor\" + 0.003*\"16\" + 0.002*\"vagina\" + 0.002*\"ausente\" + 0.002*\"situacion\" + 0.002*\"acto\" + 0.002*\"conflicto\" + 0.002*\"tenia\" + 0.002*\"edad\" + 0.002*\"13\"'),\n",
       " (8,\n",
       "  '0.041*\"ser\" + 0.024*\"mujer\" + 0.021*\"aborto\" + 0.013*\"salud\" + 0.012*\"tener\" + 0.010*\"embarazo\" + 0.009*\"poder\" + 0.009*\"haber\" + 0.007*\"hacer\" + 0.006*\"mas\"'),\n",
       " (9,\n",
       "  '0.039*\"ser\" + 0.018*\"mujer\" + 0.016*\"aborto\" + 0.012*\"tener\" + 0.011*\"derecho\" + 0.010*\"haber\" + 0.009*\"poder\" + 0.008*\"mas\" + 0.007*\"salud\" + 0.006*\"año\"')]"
      ]
     },
     "execution_count": 14,
     "metadata": {},
     "output_type": "execute_result"
    }
   ],
   "source": [
    "dictionaryfavor = corpora.Dictionary(textosfavor)\n",
    "print(len(dictionaryfavor))\n",
    "dictionaryfavor.filter_extremes()\n",
    "print(len(dictionaryfavor))\n",
    "corpusfavor = [dictionaryfavor.doc2bow(text) for text in textosfavor]\n",
    "ldamodelfavor = LdaModel(corpus=corpusfavor, num_topics=10, id2word=dictionaryfavor, iterations=4000, passes=100)\n",
    "ldamodelfavor.print_topics(10, 10)"
   ]
  },
  {
   "cell_type": "code",
   "execution_count": 15,
   "metadata": {},
   "outputs": [
    {
     "name": "stdout",
     "output_type": "stream",
     "text": [
      "14803\n"
     ]
    },
    {
     "data": {
      "text/plain": [
       "[(0,\n",
       "  '0.042*\"ser\" + 0.016*\"mujer\" + 0.013*\"poder\" + 0.012*\"aborto\" + 0.011*\"vida\" + 0.011*\"tener\" + 0.010*\"mas\" + 0.008*\"haber\" + 0.008*\"embarazo\" + 0.007*\"hacer\"'),\n",
       " (1,\n",
       "  '0.020*\"ser\" + 0.017*\"ver\" + 0.010*\"poder\" + 0.009*\"vida\" + 0.007*\"semana\" + 0.007*\"aborto\" + 0.006*\"pantalla\" + 0.005*\"imagenes\" + 0.005*\"tener\" + 0.005*\"video\"'),\n",
       " (2,\n",
       "  '0.029*\"materno\" + 0.025*\"aborto\" + 0.025*\"mortalidad\" + 0.020*\"ser\" + 0.016*\"salud\" + 0.014*\"muerte\" + 0.013*\"paises\" + 0.010*\"ciento\" + 0.009*\"tasa\" + 0.008*\"mas\"'),\n",
       " (3,\n",
       "  '0.048*\"ser\" + 0.022*\"derecho\" + 0.016*\"vida\" + 0.014*\"humano\" + 0.011*\"haber\" + 0.011*\"aborto\" + 0.010*\"tener\" + 0.010*\"poder\" + 0.010*\"persona\" + 0.008*\"niño\"'),\n",
       " (4,\n",
       "  '0.001*\"minuto\" + 0.001*\"cotidianamente\" + 0.001*\"hable\" + 0.001*\"delegar\" + 0.001*\"\\'\\'\" + 0.001*\"restar\" + 0.001*\"avisar\" + 0.001*\"\\'ofrecemos\" + 0.001*\"desestimar\" + 0.001*\"sinergia\"'),\n",
       " (5,\n",
       "  '0.059*\"ser\" + 0.015*\"vida\" + 0.015*\"tener\" + 0.013*\"poder\" + 0.010*\"decir\" + 0.010*\"ir\" + 0.009*\"``\" + 0.008*\"humano\" + 0.008*\"embrion\" + 0.007*\"hacer\"'),\n",
       " (6,\n",
       "  '0.030*\"ser\" + 0.009*\"haber\" + 0.006*\"niño\" + 0.006*\"poder\" + 0.006*\"aborto\" + 0.006*\"año\" + 0.006*\"tener\" + 0.006*\"mujer\" + 0.005*\"vida\" + 0.005*\"mas\"'),\n",
       " (7,\n",
       "  '0.012*\"ser\" + 0.009*\"discapacidad\" + 0.006*\"down\" + 0.005*\"tener\" + 0.005*\"hacer\" + 0.005*\"sindrome\" + 0.005*\"fetal\" + 0.005*\"persona\" + 0.005*\"parte\" + 0.004*\"malformación\"'),\n",
       " (8,\n",
       "  '0.003*\"\\'\\'\" + 0.002*\"inglaterra\" + 0.002*\"veintidos\" + 0.001*\"``\" + 0.001*\"permitir\" + 0.001*\"semana\" + 0.001*\"si\" + 0.001*\"1995\" + 0.001*\"eliminacion\" + 0.001*\"inyeccion\"'),\n",
       " (9,\n",
       "  '0.045*\"ser\" + 0.025*\"aborto\" + 0.017*\"tener\" + 0.016*\"mujer\" + 0.016*\"haber\" + 0.010*\"si\" + 0.009*\"decir\" + 0.009*\"hacer\" + 0.009*\"mas\" + 0.008*\"vida\"')]"
      ]
     },
     "execution_count": 15,
     "metadata": {},
     "output_type": "execute_result"
    }
   ],
   "source": [
    "dictionarycontra = corpora.Dictionary(textoscontra)\n",
    "print(len(dictionarycontra))\n",
    "dictionarycontra.filter_extremes()\n",
    "print(len(dictionarycontra))\n",
    "corpuscontra = [dictionarycontra.doc2bow(text) for text in textoscontra]\n",
    "ldamodelcontra = LdaModel(corpus=corpuscontra, num_topics=10, id2word=dictionarycontra, iterations=4000, passes=100)\n",
    "ldamodelcontra.print_topics(10, 10)"
   ]
  },
  {
   "cell_type": "code",
   "execution_count": 16,
   "metadata": {},
   "outputs": [],
   "source": [
    "chicho = pyLDAvis.gensim.prepare(ldamodelfavor, corpusfavor, dictionaryfavor,  mds=\"tsne\")\n",
    "#pyLDAvis.save_html(chicho, 'LDAfavor.html')"
   ]
  },
  {
   "cell_type": "code",
   "execution_count": 20,
   "metadata": {},
   "outputs": [],
   "source": [
    "chicho = pyLDAvis.gensim.prepare(ldamodel, corpuslematizado, dictionarylem,  mds=\"tsne\")\n",
    "#pyLDAvis.save_html(chicho, 'LDAgeneral.html')"
   ]
  },
  {
   "cell_type": "code",
   "execution_count": 21,
   "metadata": {},
   "outputs": [],
   "source": [
    "chicho = pyLDAvis.gensim.prepare(ldamodelcontra, corpuscontra, dictionarycontra,  mds=\"tsne\")\n",
    "#pyLDAvis.save_html(chicho, 'LDAcontra.html')"
   ]
  },
  {
   "cell_type": "code",
   "execution_count": null,
   "metadata": {},
   "outputs": [],
   "source": []
  }
 ],
 "metadata": {
  "kernelspec": {
   "display_name": "Python 3",
   "language": "python",
   "name": "python3"
  },
  "language_info": {
   "codemirror_mode": {
    "name": "ipython",
    "version": 3
   },
   "file_extension": ".py",
   "mimetype": "text/x-python",
   "name": "python",
   "nbconvert_exporter": "python",
   "pygments_lexer": "ipython3",
   "version": "3.7.0"
  }
 },
 "nbformat": 4,
 "nbformat_minor": 2
}
