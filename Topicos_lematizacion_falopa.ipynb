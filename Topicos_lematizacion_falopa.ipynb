{
 "cells": [
  {
   "cell_type": "code",
   "execution_count": 15,
   "metadata": {
    "scrolled": true
   },
   "outputs": [],
   "source": [
    "import pandas as pd\n",
    "from nltk import word_tokenize\n",
    "from nltk.corpus import stopwords\n",
    "import string\n",
    "from gensim.models import LdaModel, LsiModel\n",
    "from gensim.corpora import Dictionary\n",
    "from gensim import corpora\n",
    "import pyLDAvis.gensim\n",
    "import numpy as np\n",
    "\n",
    "import matplotlib.pyplot  as plt"
   ]
  },
  {
   "cell_type": "code",
   "execution_count": 16,
   "metadata": {},
   "outputs": [],
   "source": [
    "file = pd.read_csv('lematizador.txt', sep = '\\t', header = None)\n",
    "file.columns = ['surfice', 'lemma']\n",
    "file.set_index('surfice', inplace = True)\n",
    "diccionario = file.to_dict()\n",
    "dicc = diccionario['lemma']"
   ]
  },
  {
   "cell_type": "code",
   "execution_count": 17,
   "metadata": {},
   "outputs": [],
   "source": [
    "stopwords = stopwords.words('spanish')+list(string.punctuation)"
   ]
  },
  {
   "cell_type": "code",
   "execution_count": 18,
   "metadata": {},
   "outputs": [],
   "source": [
    "def lematizar_dic(lista, dicc):\n",
    "    valores = []\n",
    "    for x in lista:\n",
    "        if x in dicc.keys() and x != 'estado':\n",
    "            valores.append(dicc[x])\n",
    "        else:\n",
    "            valores.append(x)\n",
    "    return(' '.join(valores))   "
   ]
  },
  {
   "cell_type": "code",
   "execution_count": 19,
   "metadata": {},
   "outputs": [],
   "source": [
    "df = pd.read_csv('CORR_expositores_final_df.csv', sep = ';')"
   ]
  },
  {
   "cell_type": "code",
   "execution_count": 20,
   "metadata": {},
   "outputs": [],
   "source": [
    "textos = [word_tokenize(x.lower().replace('``','').replace(\"\\'\\'\",'')) for x in df.texto]"
   ]
  },
  {
   "cell_type": "code",
   "execution_count": 21,
   "metadata": {},
   "outputs": [],
   "source": [
    "lista2 = []\n",
    "for x in textos:\n",
    "    y = lematizar_dic(x, dicc)\n",
    "    lista2.append(y)"
   ]
  },
  {
   "cell_type": "code",
   "execution_count": 22,
   "metadata": {},
   "outputs": [],
   "source": [
    "lematizado_plenaria_df = pd.Series(lista2)\n"
   ]
  },
  {
   "cell_type": "code",
   "execution_count": 23,
   "metadata": {},
   "outputs": [],
   "source": [
    "nueva_df = pd.concat([df,lematizado_plenaria_df.rename('texto_lematizado')], axis = 1).dropna(subset=['posicion'])#.groupby('posicion')"
   ]
  },
  {
   "cell_type": "code",
   "execution_count": 24,
   "metadata": {},
   "outputs": [],
   "source": [
    "def procesar_texto(text, stopwords=[]):\n",
    "    text = word_tokenize(text.lower())\n",
    "    return [tok for tok in text if tok not in stopwords]"
   ]
  },
  {
   "cell_type": "code",
   "execution_count": 25,
   "metadata": {},
   "outputs": [],
   "source": [
    "textoslematizados = [procesar_texto(x,stopwords) for x in nueva_df.texto_lematizado]"
   ]
  },
  {
   "cell_type": "code",
   "execution_count": 35,
   "metadata": {},
   "outputs": [
    {
     "name": "stdout",
     "output_type": "stream",
     "text": [
      "16232\n",
      "4544\n"
     ]
    },
    {
     "data": {
      "text/plain": [
       "[(0,\n",
       "  '0.015*\"materno\" + 0.015*\"salud\" + 0.014*\"pais\" + 0.012*\"ciento\" + 0.012*\"mortalidad\" + 0.011*\"aborto\" + 0.011*\"muerte\" + 0.007*\"embarazar\" + 0.006*\"argentino\" + 0.006*\"partir\"'),\n",
       " (1,\n",
       "  '0.008*\"personar\" + 0.007*\"deber\" + 0.007*\"creer\" + 0.005*\"años\" + 0.005*\"sociedad\" + 0.005*\"ir\" + 0.005*\"sobrar\" + 0.005*\"politico\" + 0.005*\"tratar\" + 0.005*\"existir\"'),\n",
       " (2,\n",
       "  '0.013*\"embarazar\" + 0.011*\"hijo\" + 0.009*\"ir\" + 0.007*\"años\" + 0.006*\"salud\" + 0.006*\"madre\" + 0.006*\"situacion\" + 0.005*\"dar\" + 0.005*\"deber\" + 0.005*\"dia\"'),\n",
       " (3,\n",
       "  '0.015*\"articular\" + 0.015*\"humano\" + 0.013*\"convencion\" + 0.012*\"niño\" + 0.011*\"personar\" + 0.010*\"constitucion\" + 0.010*\"constitucional\" + 0.010*\"deber\" + 0.010*\"sobrar\" + 0.009*\"casar\"'),\n",
       " (4,\n",
       "  '0.012*\"ir\" + 0.012*\"hablar\" + 0.008*\"años\" + 0.008*\"vez\" + 0.007*\"personar\" + 0.007*\"semana\" + 0.007*\"beber\" + 0.006*\"diputar\" + 0.006*\"embarazar\" + 0.005*\"preguntar\"'),\n",
       " (5,\n",
       "  '0.019*\"salud\" + 0.010*\"legal\" + 0.010*\"sexual\" + 0.009*\"sobrar\" + 0.008*\"seguro\" + 0.008*\"ley\" + 0.007*\"acceso\" + 0.007*\"embarazar\" + 0.006*\"personar\" + 0.006*\"practico\"'),\n",
       " (6,\n",
       "  '0.016*\"personar\" + 0.011*\"deber\" + 0.009*\"salud\" + 0.008*\"nacer\" + 0.007*\"hijo\" + 0.006*\"problema\" + 0.006*\"madre\" + 0.006*\"politico\" + 0.006*\"embarazar\" + 0.005*\"muerte\"'),\n",
       " (7,\n",
       "  '0.008*\"personar\" + 0.008*\"ir\" + 0.007*\"madre\" + 0.006*\"ver\" + 0.006*\"humano\" + 0.006*\"deber\" + 0.006*\"humanar\" + 0.006*\"momento\" + 0.006*\"embarazar\" + 0.005*\"embrion\"'),\n",
       " (8,\n",
       "  '0.009*\"ley\" + 0.008*\"sobrar\" + 0.008*\"deber\" + 0.008*\"personar\" + 0.006*\"embarazar\" + 0.005*\"debatir\" + 0.005*\"ir\" + 0.005*\"penal\" + 0.005*\"humano\" + 0.005*\"mismo\"'),\n",
       " (9,\n",
       "  '0.019*\"humano\" + 0.014*\"internacional\" + 0.012*\"sobrar\" + 0.010*\"tratar\" + 0.010*\"deber\" + 0.009*\"nacer\" + 0.009*\"personar\" + 0.007*\"norma\" + 0.007*\"casar\" + 0.006*\"niño\"')]"
      ]
     },
     "execution_count": 35,
     "metadata": {},
     "output_type": "execute_result"
    }
   ],
   "source": [
    "dictionarylem = corpora.Dictionary(textoslematizados)\n",
    "print(len(dictionarylem))\n",
    "dictionarylem.filter_extremes()\n",
    "print(len(dictionarylem))\n",
    "corpuslematizado = [dictionarylem.doc2bow(text) for text in textoslematizados]\n",
    "ldamodel = LdaModel(corpus=corpuslematizado, num_topics=10, id2word=dictionarylem, iterations=4000, passes=10)\n",
    "ldamodel.print_topics(10, 10)"
   ]
  },
  {
   "cell_type": "code",
   "execution_count": 42,
   "metadata": {},
   "outputs": [],
   "source": [
    "textos = [procesar_texto(x,stopwords) for x in nueva_df.texto]\n",
    "textosfavor = [procesar_texto(x,stopwords) for x in nueva_df.texto_lematizado[nueva_df.posicion=='a favor']]\n",
    "textoscontra = [procesar_texto(x,stopwords) for x in nueva_df.texto_lematizado[nueva_df.posicion=='en contra']]"
   ]
  },
  {
   "cell_type": "code",
   "execution_count": 43,
   "metadata": {},
   "outputs": [
    {
     "data": {
      "text/plain": [
       "'dictionary = corpora.Dictionary(textos)\\ndictionary.filter_extremes()\\ncorpus = [dictionary.doc2bow(text) for text in textos]\\nldamodelcompleto = LdaModel(corpus=corpus, num_topics=10, id2word=dictionary, iterations=4000, passes=10)\\nldamodelcompleto.print_topics(10, 10)'"
      ]
     },
     "execution_count": 43,
     "metadata": {},
     "output_type": "execute_result"
    }
   ],
   "source": [
    "\"\"\"dictionary = corpora.Dictionary(textos)\n",
    "dictionary.filter_extremes()\n",
    "corpus = [dictionary.doc2bow(text) for text in textos]\n",
    "ldamodelcompleto = LdaModel(corpus=corpus, num_topics=10, id2word=dictionary, iterations=4000, passes=10)\n",
    "ldamodelcompleto.print_topics(10, 10)\"\"\""
   ]
  },
  {
   "cell_type": "code",
   "execution_count": 44,
   "metadata": {},
   "outputs": [
    {
     "name": "stdout",
     "output_type": "stream",
     "text": [
      "10861\n",
      "2908\n"
     ]
    },
    {
     "data": {
      "text/plain": [
       "[(0,\n",
       "  '0.016*\"hijo\" + 0.007*\"desear\" + 0.007*\"pais\" + 0.007*\"madre\" + 0.006*\"hablar\" + 0.005*\"personar\" + 0.005*\"años\" + 0.005*\"debatir\" + 0.005*\"entrar\" + 0.005*\"decidir\"'),\n",
       " (1,\n",
       "  '0.009*\"legal\" + 0.007*\"aborto\" + 0.007*\"seguro\" + 0.007*\"interrupcion\" + 0.007*\"acceso\" + 0.006*\"pais\" + 0.006*\"ciento\" + 0.006*\"años\" + 0.006*\"practico\" + 0.006*\"profesional\"'),\n",
       " (2,\n",
       "  '0.009*\"argentino\" + 0.008*\"ley\" + 0.008*\"pais\" + 0.008*\"deber\" + 0.007*\"debatir\" + 0.007*\"politico\" + 0.007*\"aborto\" + 0.006*\"hoy\" + 0.006*\"practico\" + 0.006*\"cortar\"'),\n",
       " (3,\n",
       "  '0.010*\"ley\" + 0.008*\"deber\" + 0.006*\"años\" + 0.006*\"hablar\" + 0.006*\"politico\" + 0.006*\"debatir\" + 0.005*\"sexual\" + 0.005*\"personar\" + 0.005*\"aborto\" + 0.005*\"hoy\"'),\n",
       " (4,\n",
       "  '0.011*\"deber\" + 0.009*\"constitucional\" + 0.008*\"constitucion\" + 0.008*\"acordar\" + 0.008*\"casar\" + 0.007*\"hablar\" + 0.007*\"cortar\" + 0.007*\"preguntar\" + 0.006*\"argumentar\" + 0.006*\"tercero\"'),\n",
       " (5,\n",
       "  '0.012*\"cuerpo\" + 0.010*\"``\" + 0.008*\"deber\" + 0.008*\"decidir\" + 0.007*\"decision\" + 0.007*\"clandestino\" + 0.005*\"hablar\" + 0.005*\"años\" + 0.005*\"tratar\" + 0.005*\"aborto\"'),\n",
       " (6,\n",
       "  '0.015*\"penal\" + 0.013*\"humano\" + 0.010*\"personar\" + 0.008*\"argentino\" + 0.007*\"tratar\" + 0.006*\"partir\" + 0.006*\"deber\" + 0.006*\"codigo\" + 0.006*\"embrion\" + 0.006*\"caso\"'),\n",
       " (7,\n",
       "  '0.016*\"humano\" + 0.014*\"internacional\" + 0.010*\"articular\" + 0.010*\"convencion\" + 0.009*\"tratar\" + 0.008*\"casar\" + 0.008*\"interamericano\" + 0.007*\"semana\" + 0.006*\"comision\" + 0.006*\"misoprostol\"'),\n",
       " (8,\n",
       "  '0.009*\"debatir\" + 0.007*\"deber\" + 0.006*\"educacion\" + 0.006*\"sexual\" + 0.006*\"años\" + 0.005*\"iglesia\" + 0.005*\"hijo\" + 0.005*\"dar\" + 0.005*\"decidir\" + 0.005*\"argentino\"'),\n",
       " (9,\n",
       "  '0.010*\"ley\" + 0.010*\"personar\" + 0.009*\"sexual\" + 0.007*\"años\" + 0.006*\"decidir\" + 0.006*\"cuerpo\" + 0.006*\"violencia\" + 0.005*\"hablar\" + 0.005*\"social\" + 0.005*\"partir\"')]"
      ]
     },
     "execution_count": 44,
     "metadata": {},
     "output_type": "execute_result"
    }
   ],
   "source": [
    "dictionaryfavor = corpora.Dictionary(textosfavor)\n",
    "print(len(dictionaryfavor))\n",
    "dictionaryfavor.filter_extremes()\n",
    "print(len(dictionaryfavor))\n",
    "corpusfavor = [dictionaryfavor.doc2bow(text) for text in textosfavor]\n",
    "ldamodelfavor = LdaModel(corpus=corpusfavor, num_topics=10, id2word=dictionaryfavor, iterations=4000, passes=10)\n",
    "ldamodelfavor.print_topics(10, 10)"
   ]
  },
  {
   "cell_type": "code",
   "execution_count": 45,
   "metadata": {},
   "outputs": [
    {
     "name": "stdout",
     "output_type": "stream",
     "text": [
      "11724\n"
     ]
    },
    {
     "ename": "AttributeError",
     "evalue": "'Dictionary' object has no attribute 'filter_extrems'",
     "output_type": "error",
     "traceback": [
      "\u001b[1;31m---------------------------------------------------------------------------\u001b[0m",
      "\u001b[1;31mAttributeError\u001b[0m                            Traceback (most recent call last)",
      "\u001b[1;32m<ipython-input-45-cc9e979bbb86>\u001b[0m in \u001b[0;36m<module>\u001b[1;34m()\u001b[0m\n\u001b[0;32m      1\u001b[0m \u001b[0mdictionarycontra\u001b[0m \u001b[1;33m=\u001b[0m \u001b[0mcorpora\u001b[0m\u001b[1;33m.\u001b[0m\u001b[0mDictionary\u001b[0m\u001b[1;33m(\u001b[0m\u001b[0mtextoscontra\u001b[0m\u001b[1;33m)\u001b[0m\u001b[1;33m\u001b[0m\u001b[0m\n\u001b[0;32m      2\u001b[0m \u001b[0mprint\u001b[0m\u001b[1;33m(\u001b[0m\u001b[0mlen\u001b[0m\u001b[1;33m(\u001b[0m\u001b[0mdictionarycontra\u001b[0m\u001b[1;33m)\u001b[0m\u001b[1;33m)\u001b[0m\u001b[1;33m\u001b[0m\u001b[0m\n\u001b[1;32m----> 3\u001b[1;33m \u001b[0mdictionarycontra\u001b[0m\u001b[1;33m.\u001b[0m\u001b[0mfilter_extrems\u001b[0m\u001b[1;33m(\u001b[0m\u001b[1;33m)\u001b[0m\u001b[1;33m\u001b[0m\u001b[0m\n\u001b[0m\u001b[0;32m      4\u001b[0m \u001b[0mprint\u001b[0m\u001b[1;33m(\u001b[0m\u001b[0mlen\u001b[0m\u001b[1;33m(\u001b[0m\u001b[0mdictionarycontra\u001b[0m\u001b[1;33m)\u001b[0m\u001b[1;33m)\u001b[0m\u001b[1;33m\u001b[0m\u001b[0m\n\u001b[0;32m      5\u001b[0m \u001b[0mcorpuscontra\u001b[0m \u001b[1;33m=\u001b[0m \u001b[1;33m[\u001b[0m\u001b[0mdictionarycontra\u001b[0m\u001b[1;33m.\u001b[0m\u001b[0mdoc2bow\u001b[0m\u001b[1;33m(\u001b[0m\u001b[0mtext\u001b[0m\u001b[1;33m)\u001b[0m \u001b[1;32mfor\u001b[0m \u001b[0mtext\u001b[0m \u001b[1;32min\u001b[0m \u001b[0mtextoscontra\u001b[0m\u001b[1;33m]\u001b[0m\u001b[1;33m\u001b[0m\u001b[0m\n",
      "\u001b[1;31mAttributeError\u001b[0m: 'Dictionary' object has no attribute 'filter_extrems'"
     ]
    }
   ],
   "source": [
    "dictionarycontra = corpora.Dictionary(textoscontra)\n",
    "print(len(dictionarycontra))\n",
    "dictionarycontra.filter_extrems()\n",
    "print(len(dictionarycontra))\n",
    "corpuscontra = [dictionarycontra.doc2bow(text) for text in textoscontra]\n",
    "ldamodelcontra = LdaModel(corpus=corpuscontra, num_topics=10, id2word=dictionarycontra, iterations=4000, passes=10)\n",
    "ldamodelcontra.print_topics(10, 10)"
   ]
  },
  {
   "cell_type": "code",
   "execution_count": null,
   "metadata": {},
   "outputs": [],
   "source": [
    "import pyLDAvis.gensim\n",
    "pyLDAvis.gensim.prepare(ldamodel, corpus, dictionarylem, mds=\"tsne\")"
   ]
  },
  {
   "cell_type": "code",
   "execution_count": null,
   "metadata": {},
   "outputs": [],
   "source": [
    "lsimodel = LsiModel(corpus=corpuscontra, num_topics=10, id2word=dictionary)"
   ]
  },
  {
   "cell_type": "code",
   "execution_count": null,
   "metadata": {
    "scrolled": true
   },
   "outputs": [],
   "source": []
  },
  {
   "cell_type": "code",
   "execution_count": null,
   "metadata": {},
   "outputs": [],
   "source": []
  }
 ],
 "metadata": {
  "kernelspec": {
   "display_name": "Python 3",
   "language": "python",
   "name": "python3"
  },
  "language_info": {
   "codemirror_mode": {
    "name": "ipython",
    "version": 3
   },
   "file_extension": ".py",
   "mimetype": "text/x-python",
   "name": "python",
   "nbconvert_exporter": "python",
   "pygments_lexer": "ipython3",
   "version": "3.7.0"
  }
 },
 "nbformat": 4,
 "nbformat_minor": 2
}
